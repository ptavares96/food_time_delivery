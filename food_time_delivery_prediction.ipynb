{
  "nbformat": 4,
  "nbformat_minor": 0,
  "metadata": {
    "colab": {
      "provenance": []
    },
    "kernelspec": {
      "name": "python3",
      "display_name": "Python 3"
    },
    "language_info": {
      "name": "python"
    }
  },
  "cells": [
    {
      "cell_type": "markdown",
      "source": [
        "# Food Time Delivery Prediction\n",
        "\n",
        "<p align=center>\n",
        "  <img src=\"https://img.freepik.com/vetores-premium/encomende-por-telefone-e-receba-a-comida-na-porta_23-2148555891.jpg?w=2000\" width=\"60%\">\n",
        "</p>\n",
        "\n",
        "Forecasting the delivery duration of an order poses a formidable challenge for any food delivery service. Among the most effective methodologies for anticipating delivery time is to assess the geographical span between the order's pickup location and its intended destination. This information is then utilized to predict the delivery time, drawing from historical data regarding the time taken by delivery partners to fulfill orders of comparable distances in the past.\n",
        "\n",
        "Time delivery prediction typically falls under the realm of regression modeling. Regression is a type of supervised machine learning where the goal is to predict a continuous numeric output based on input features. In the context of time delivery prediction, you're aiming to predict a continuous variable (the time taken for delivery) based on various input features such as delivery person attributes, location coordinates, order type, vehicle type, etc.\n",
        "\n",
        "There are various regression techniques available to construct a time delivery prediction model, including:\n",
        "\n",
        "**Linear Regression**: Linear regression models assume a linear relationship between input features and the target variable. This approach is ideal when the relationship is roughly linear.\n",
        "\n",
        "**Random Forest Regression**: Random forest is an ensemble method that amalgamates multiple decision trees for predictions. It excels at capturing non-linear relationships and feature interactions.\n",
        "\n",
        "**Gradient Boosting Regression**: Gradient boosting assembles decision trees sequentially to rectify the errors of previous trees. It's notably effective for predictive tasks.\n",
        "\n",
        "**Support Vector Regression (SVR)**: SVR is rooted in support vector machines and shines when dealing with non-linear patterns in data."
      ],
      "metadata": {
        "id": "E4KZNQ-Lc2JE"
      }
    },
    {
      "cell_type": "markdown",
      "source": [
        "## Packages and data import\n"
      ],
      "metadata": {
        "id": "nvoo2t5_ifjI"
      }
    },
    {
      "cell_type": "code",
      "source": [
        "!pip install kaggle\n",
        "\n",
        "# Move the uploaded kaggle.json to the proper location and set the required permissions\n",
        "!mkdir -p ~/.kaggle\n",
        "!cp kaggle.json ~/.kaggle/\n",
        "!chmod 600 ~/.kaggle/kaggle.json"
      ],
      "metadata": {
        "colab": {
          "base_uri": "https://localhost:8080/"
        },
        "id": "ON3_xOSObQb8",
        "outputId": "555d89ad-ee7d-4599-acc3-9316aeb795a6"
      },
      "execution_count": 5,
      "outputs": [
        {
          "output_type": "stream",
          "name": "stdout",
          "text": [
            "Requirement already satisfied: kaggle in ./anaconda3/lib/python3.10/site-packages (1.5.16)\r\n",
            "Requirement already satisfied: certifi in ./anaconda3/lib/python3.10/site-packages (from kaggle) (2022.12.7)\r\n",
            "Requirement already satisfied: python-dateutil in ./anaconda3/lib/python3.10/site-packages (from kaggle) (2.8.2)\r\n",
            "Requirement already satisfied: urllib3 in ./anaconda3/lib/python3.10/site-packages (from kaggle) (1.26.14)\r\n",
            "Requirement already satisfied: bleach in ./anaconda3/lib/python3.10/site-packages (from kaggle) (4.1.0)\r\n",
            "Requirement already satisfied: requests in ./anaconda3/lib/python3.10/site-packages (from kaggle) (2.28.1)\r\n",
            "Requirement already satisfied: six>=1.10 in ./anaconda3/lib/python3.10/site-packages (from kaggle) (1.16.0)\r\n",
            "Requirement already satisfied: tqdm in ./anaconda3/lib/python3.10/site-packages (from kaggle) (4.64.1)\r\n",
            "Requirement already satisfied: python-slugify in ./anaconda3/lib/python3.10/site-packages (from kaggle) (5.0.2)\r\n",
            "Requirement already satisfied: packaging in ./anaconda3/lib/python3.10/site-packages (from bleach->kaggle) (22.0)\r\n",
            "Requirement already satisfied: webencodings in ./anaconda3/lib/python3.10/site-packages (from bleach->kaggle) (0.5.1)\r\n",
            "Requirement already satisfied: text-unidecode>=1.3 in ./anaconda3/lib/python3.10/site-packages (from python-slugify->kaggle) (1.3)\r\n",
            "Requirement already satisfied: idna<4,>=2.5 in ./anaconda3/lib/python3.10/site-packages (from requests->kaggle) (3.4)\r\n",
            "Requirement already satisfied: charset-normalizer<3,>=2 in ./anaconda3/lib/python3.10/site-packages (from requests->kaggle) (2.0.4)\r\n"
          ]
        }
      ]
    },
    {
      "cell_type": "code",
      "source": [
        "!kaggle datasets download -d 'bhanupratapbiswas/food-delivery-time-prediction-case-study'"
      ],
      "metadata": {
        "colab": {
          "base_uri": "https://localhost:8080/"
        },
        "id": "Of7VP-3jcHhq",
        "outputId": "61cac6b1-d620-4b15-9448-aa6ab7dcdffc"
      },
      "execution_count": 6,
      "outputs": [
        {
          "output_type": "stream",
          "name": "stdout",
          "text": [
            "Downloading food-delivery-time-prediction-case-study.zip to /home/paulo\n",
            " 86%|████████████████████████████████▌     | 3.00M/3.50M [00:01<00:00, 3.58MB/s]\n",
            "100%|██████████████████████████████████████| 3.50M/3.50M [00:01<00:00, 3.35MB/s]\n"
          ]
        }
      ]
    },
    {
      "cell_type": "code",
      "source": [
        "import zipfile\n",
        "\n",
        "with zipfile.ZipFile('food-delivery-time-prediction-case-study.zip', 'r') as zip_ref:\n",
        "    zip_ref.extractall('data_directory')"
      ],
      "metadata": {
        "id": "pg1oMs-ndOyx"
      },
      "execution_count": 7,
      "outputs": []
    },
    {
      "cell_type": "code",
      "execution_count": 50,
      "metadata": {
        "id": "ZaO8XQv6cser"
      },
      "outputs": [],
      "source": [
        "#For EDA\n",
        "import pandas as pd\n",
        "import numpy as np\n",
        "import matplotlib.pyplot as plt\n",
        "import seaborn as sns\n",
        "\n",
        "import warnings\n",
        "warnings.filterwarnings('ignore')\n",
        "\n",
        "# For processing data\n",
        "from sklearn.impute import SimpleImputer\n",
        "from sklearn.model_selection import train_test_split\n",
        "from sklearn.preprocessing import StandardScaler, MinMaxScaler\n",
        "from sklearn.preprocessing import OneHotEncoder, LabelEncoder\n",
        "\n",
        "# For build ML regression model\n",
        "from sklearn.linear_model import LinearRegression, Ridge, Lasso, ElasticNet\n",
        "from sklearn.ensemble import RandomForestRegressor, GradientBoostingRegressor\n",
        "from sklearn.svm import SVR\n",
        "\n",
        "from sklearn.metrics import make_scorer, r2_score, mean_absolute_error, mean_squared_error, mean_squared_log_error\n",
        "from sklearn.model_selection import learning_curve\n",
        "from sklearn.model_selection import cross_validate, KFold\n",
        "from sklearn.model_selection import GridSearchCV"
      ]
    },
    {
      "cell_type": "code",
      "source": [
        "df = pd.read_excel('data_directory/Food Delivery Time Prediction Case Study.xlsx')\n",
        "\n",
        "df.head()"
      ],
      "metadata": {
        "id": "j3CqsOFbdWtQ",
        "colab": {
          "base_uri": "https://localhost:8080/",
          "height": 226
        },
        "outputId": "402fd19f-cc17-4018-d2c9-0f6a765fda05"
      },
      "execution_count": 14,
      "outputs": [
        {
          "output_type": "execute_result",
          "data": {
            "text/plain": [
              "     ID Delivery_person_ID  Delivery_person_Age  Delivery_person_Ratings  \\\n",
              "0  4607     INDORES13DEL02                   37                      4.9   \n",
              "1  B379     BANGRES18DEL02                   34                      4.5   \n",
              "2  5D6D     BANGRES19DEL01                   23                      4.4   \n",
              "3  7A6A    COIMBRES13DEL02                   38                      4.7   \n",
              "4  70A2     CHENRES12DEL01                   32                      4.6   \n",
              "\n",
              "   Restaurant_latitude  Restaurant_longitude  Delivery_location_latitude  \\\n",
              "0            22.745049             75.892471                   22.765049   \n",
              "1            12.913041             77.683237                   13.043041   \n",
              "2            12.914264             77.678400                   12.924264   \n",
              "3            11.003669             76.976494                   11.053669   \n",
              "4            12.972793             80.249982                   13.012793   \n",
              "\n",
              "   Delivery_location_longitude Type_of_order Type_of_vehicle  Time_taken(min)  \n",
              "0                    75.912471        Snack      motorcycle                24  \n",
              "1                    77.813237        Snack         scooter                33  \n",
              "2                    77.688400       Drinks      motorcycle                26  \n",
              "3                    77.026494       Buffet      motorcycle                21  \n",
              "4                    80.289982        Snack         scooter                30  "
            ],
            "text/html": [
              "<div>\n",
              "<style scoped>\n",
              "    .dataframe tbody tr th:only-of-type {\n",
              "        vertical-align: middle;\n",
              "    }\n",
              "\n",
              "    .dataframe tbody tr th {\n",
              "        vertical-align: top;\n",
              "    }\n",
              "\n",
              "    .dataframe thead th {\n",
              "        text-align: right;\n",
              "    }\n",
              "</style>\n",
              "<table border=\"1\" class=\"dataframe\">\n",
              "  <thead>\n",
              "    <tr style=\"text-align: right;\">\n",
              "      <th></th>\n",
              "      <th>ID</th>\n",
              "      <th>Delivery_person_ID</th>\n",
              "      <th>Delivery_person_Age</th>\n",
              "      <th>Delivery_person_Ratings</th>\n",
              "      <th>Restaurant_latitude</th>\n",
              "      <th>Restaurant_longitude</th>\n",
              "      <th>Delivery_location_latitude</th>\n",
              "      <th>Delivery_location_longitude</th>\n",
              "      <th>Type_of_order</th>\n",
              "      <th>Type_of_vehicle</th>\n",
              "      <th>Time_taken(min)</th>\n",
              "    </tr>\n",
              "  </thead>\n",
              "  <tbody>\n",
              "    <tr>\n",
              "      <th>0</th>\n",
              "      <td>4607</td>\n",
              "      <td>INDORES13DEL02</td>\n",
              "      <td>37</td>\n",
              "      <td>4.9</td>\n",
              "      <td>22.745049</td>\n",
              "      <td>75.892471</td>\n",
              "      <td>22.765049</td>\n",
              "      <td>75.912471</td>\n",
              "      <td>Snack</td>\n",
              "      <td>motorcycle</td>\n",
              "      <td>24</td>\n",
              "    </tr>\n",
              "    <tr>\n",
              "      <th>1</th>\n",
              "      <td>B379</td>\n",
              "      <td>BANGRES18DEL02</td>\n",
              "      <td>34</td>\n",
              "      <td>4.5</td>\n",
              "      <td>12.913041</td>\n",
              "      <td>77.683237</td>\n",
              "      <td>13.043041</td>\n",
              "      <td>77.813237</td>\n",
              "      <td>Snack</td>\n",
              "      <td>scooter</td>\n",
              "      <td>33</td>\n",
              "    </tr>\n",
              "    <tr>\n",
              "      <th>2</th>\n",
              "      <td>5D6D</td>\n",
              "      <td>BANGRES19DEL01</td>\n",
              "      <td>23</td>\n",
              "      <td>4.4</td>\n",
              "      <td>12.914264</td>\n",
              "      <td>77.678400</td>\n",
              "      <td>12.924264</td>\n",
              "      <td>77.688400</td>\n",
              "      <td>Drinks</td>\n",
              "      <td>motorcycle</td>\n",
              "      <td>26</td>\n",
              "    </tr>\n",
              "    <tr>\n",
              "      <th>3</th>\n",
              "      <td>7A6A</td>\n",
              "      <td>COIMBRES13DEL02</td>\n",
              "      <td>38</td>\n",
              "      <td>4.7</td>\n",
              "      <td>11.003669</td>\n",
              "      <td>76.976494</td>\n",
              "      <td>11.053669</td>\n",
              "      <td>77.026494</td>\n",
              "      <td>Buffet</td>\n",
              "      <td>motorcycle</td>\n",
              "      <td>21</td>\n",
              "    </tr>\n",
              "    <tr>\n",
              "      <th>4</th>\n",
              "      <td>70A2</td>\n",
              "      <td>CHENRES12DEL01</td>\n",
              "      <td>32</td>\n",
              "      <td>4.6</td>\n",
              "      <td>12.972793</td>\n",
              "      <td>80.249982</td>\n",
              "      <td>13.012793</td>\n",
              "      <td>80.289982</td>\n",
              "      <td>Snack</td>\n",
              "      <td>scooter</td>\n",
              "      <td>30</td>\n",
              "    </tr>\n",
              "  </tbody>\n",
              "</table>\n",
              "</div>"
            ]
          },
          "metadata": {},
          "execution_count": 14
        }
      ]
    },
    {
      "cell_type": "markdown",
      "source": [
        "## Informations about the data"
      ],
      "metadata": {
        "id": "UO0_cI_IjcJI"
      }
    },
    {
      "cell_type": "code",
      "source": [
        "def data_info(df):\n",
        "    num_entries, num_vars = df.shape\n",
        "    feature_names = df.columns.values\n",
        "    variable_types = df.dtypes\n",
        "    unique_values = df.nunique().sort_values(ascending=False)\n",
        "    max_missing = df.isnull().sum().max()\n",
        "    missing_percentage = (df.isnull().sum() * 100 / num_entries).sort_values(ascending=False)\n",
        "\n",
        "    print(f'Number of entries (rows): {num_entries}')\n",
        "    print(f'\\nNumber of variables (columns): {num_vars}')\n",
        "    print(f'\\nFeature names:\\n{feature_names}')\n",
        "    print(f'\\nVariable Types (by column)\\n{variable_types}')\n",
        "    print(f'\\nUnique values (by column):\\n{unique_values}')\n",
        "    print(f'\\nMissing data (total): {max_missing}')\n",
        "    print(f'\\nPercentage of missing values (by column):\\n{missing_percentage}')\n",
        "\n",
        "data_info(df)"
      ],
      "metadata": {
        "colab": {
          "base_uri": "https://localhost:8080/"
        },
        "id": "waLU-IFIdtn4",
        "outputId": "346ccaa0-f466-48aa-d888-6dcd4c844f54"
      },
      "execution_count": 15,
      "outputs": [
        {
          "output_type": "stream",
          "name": "stdout",
          "text": [
            "Number of entries (rows): 45593\n",
            "\n",
            "Number of variables (columns): 11\n",
            "\n",
            "Feature names:\n",
            "['ID' 'Delivery_person_ID' 'Delivery_person_Age' 'Delivery_person_Ratings'\n",
            " 'Restaurant_latitude' 'Restaurant_longitude' 'Delivery_location_latitude'\n",
            " 'Delivery_location_longitude' 'Type_of_order' 'Type_of_vehicle'\n",
            " 'Time_taken(min)']\n",
            "\n",
            "Variable Types (by column)\n",
            "ID                              object\n",
            "Delivery_person_ID              object\n",
            "Delivery_person_Age              int64\n",
            "Delivery_person_Ratings        float64\n",
            "Restaurant_latitude            float64\n",
            "Restaurant_longitude           float64\n",
            "Delivery_location_latitude     float64\n",
            "Delivery_location_longitude    float64\n",
            "Type_of_order                   object\n",
            "Type_of_vehicle                 object\n",
            "Time_taken(min)                  int64\n",
            "dtype: object\n",
            "\n",
            "Unique values (by column):\n",
            "ID                             45355\n",
            "Delivery_location_latitude      4373\n",
            "Delivery_location_longitude     4373\n",
            "Delivery_person_ID              1320\n",
            "Restaurant_latitude              657\n",
            "Restaurant_longitude             518\n",
            "Time_taken(min)                   45\n",
            "Delivery_person_Ratings           28\n",
            "Delivery_person_Age               22\n",
            "Type_of_order                      4\n",
            "Type_of_vehicle                    4\n",
            "dtype: int64\n",
            "\n",
            "Missing data (total): 0\n",
            "\n",
            "Percentage of missing values (by column):\n",
            "ID                             0.0\n",
            "Delivery_person_ID             0.0\n",
            "Delivery_person_Age            0.0\n",
            "Delivery_person_Ratings        0.0\n",
            "Restaurant_latitude            0.0\n",
            "Restaurant_longitude           0.0\n",
            "Delivery_location_latitude     0.0\n",
            "Delivery_location_longitude    0.0\n",
            "Type_of_order                  0.0\n",
            "Type_of_vehicle                0.0\n",
            "Time_taken(min)                0.0\n",
            "dtype: float64\n"
          ]
        }
      ]
    },
    {
      "cell_type": "code",
      "source": [
        "df.Type_of_order.unique()"
      ],
      "metadata": {
        "colab": {
          "base_uri": "https://localhost:8080/"
        },
        "id": "6P6F0ysHeve3",
        "outputId": "c70d5b80-231b-470a-e6f6-a56234ac9ea3"
      },
      "execution_count": 16,
      "outputs": [
        {
          "output_type": "execute_result",
          "data": {
            "text/plain": [
              "array(['Snack ', 'Drinks ', 'Buffet ', 'Meal '], dtype=object)"
            ]
          },
          "metadata": {},
          "execution_count": 16
        }
      ]
    },
    {
      "cell_type": "code",
      "source": [
        "df.Type_of_vehicle.unique()"
      ],
      "metadata": {
        "colab": {
          "base_uri": "https://localhost:8080/"
        },
        "id": "mn2-4Xe6e-Qv",
        "outputId": "292daaaf-cf49-4686-8121-6b47f90f99da"
      },
      "execution_count": 17,
      "outputs": [
        {
          "output_type": "execute_result",
          "data": {
            "text/plain": [
              "array(['motorcycle ', 'scooter ', 'electric_scooter ', 'bicycle '],\n",
              "      dtype=object)"
            ]
          },
          "metadata": {},
          "execution_count": 17
        }
      ]
    },
    {
      "cell_type": "markdown",
      "source": [
        "`ID`: A unique identifier for each delivery record.\n",
        "\n",
        "`Delivery_person_ID`: A unique identifier for the delivery person responsible for the delivery.\n",
        "\n",
        "`Delivery_person_Age`: The age of the delivery person, indicating how old they are.\n",
        "\n",
        "`Delivery_person_Ratings`: The ratings or feedback received by the delivery person from customers, reflecting their service quality.\n",
        "\n",
        "`Restaurant_latitude`: The latitude coordinate of the restaurant where the order is prepared.\n",
        "\n",
        "`Restaurant_longitude`: The longitude coordinate of the restaurant where the order is prepared.\n",
        "\n",
        "`Delivery_location_latitude`: The latitude coordinate of the delivery location where the order is to be delivered.\n",
        "\n",
        "`Delivery_location_longitude`: The longitude coordinate of the delivery location where the order is to be delivered.\n",
        "\n",
        "`Type_of_order`: The category or type of the order, which are `'Snack ', 'Drinks ', 'Buffet ', 'Meal '`.\n",
        "\n",
        "`Type_of_vehicle`: The type of vehicle used for the delivery, indicating if it's `'motorcycle', 'scooter', 'electric_scooter', 'bicycle'`.\n",
        "\n",
        "`Time_taken(min)`: The time taken to complete the delivery, measured in minutes. The variable target."
      ],
      "metadata": {
        "id": "b2yYzaXJuCYB"
      }
    },
    {
      "cell_type": "code",
      "source": [
        "df.describe()"
      ],
      "metadata": {
        "colab": {
          "base_uri": "https://localhost:8080/",
          "height": 300
        },
        "id": "eggsA75ifE4v",
        "outputId": "fa2b305a-e234-4dd7-8641-ddebe150c987"
      },
      "execution_count": 18,
      "outputs": [
        {
          "output_type": "execute_result",
          "data": {
            "text/plain": [
              "       Delivery_person_Age  Delivery_person_Ratings  Restaurant_latitude  \\\n",
              "count         45593.000000             45593.000000         45593.000000   \n",
              "mean             29.544075                 4.632367            17.017729   \n",
              "std               5.696793                 0.327708             8.185109   \n",
              "min              15.000000                 1.000000           -30.905562   \n",
              "25%              25.000000                 4.600000            12.933284   \n",
              "50%              29.000000                 4.700000            18.546947   \n",
              "75%              34.000000                 4.800000            22.728163   \n",
              "max              50.000000                 6.000000            30.914057   \n",
              "\n",
              "       Restaurant_longitude  Delivery_location_latitude  \\\n",
              "count          45593.000000                45593.000000   \n",
              "mean              70.231332                   17.465186   \n",
              "std               22.883647                    7.335122   \n",
              "min              -88.366217                    0.010000   \n",
              "25%               73.170000                   12.988453   \n",
              "50%               75.898497                   18.633934   \n",
              "75%               78.044095                   22.785049   \n",
              "max               88.433452                   31.054057   \n",
              "\n",
              "       Delivery_location_longitude  Time_taken(min)  \n",
              "count                 45593.000000     45593.000000  \n",
              "mean                     70.845702        26.294607  \n",
              "std                      21.118812         9.383806  \n",
              "min                       0.010000        10.000000  \n",
              "25%                      73.280000        19.000000  \n",
              "50%                      76.002574        26.000000  \n",
              "75%                      78.107044        32.000000  \n",
              "max                      88.563452        54.000000  "
            ],
            "text/html": [
              "<div>\n",
              "<style scoped>\n",
              "    .dataframe tbody tr th:only-of-type {\n",
              "        vertical-align: middle;\n",
              "    }\n",
              "\n",
              "    .dataframe tbody tr th {\n",
              "        vertical-align: top;\n",
              "    }\n",
              "\n",
              "    .dataframe thead th {\n",
              "        text-align: right;\n",
              "    }\n",
              "</style>\n",
              "<table border=\"1\" class=\"dataframe\">\n",
              "  <thead>\n",
              "    <tr style=\"text-align: right;\">\n",
              "      <th></th>\n",
              "      <th>Delivery_person_Age</th>\n",
              "      <th>Delivery_person_Ratings</th>\n",
              "      <th>Restaurant_latitude</th>\n",
              "      <th>Restaurant_longitude</th>\n",
              "      <th>Delivery_location_latitude</th>\n",
              "      <th>Delivery_location_longitude</th>\n",
              "      <th>Time_taken(min)</th>\n",
              "    </tr>\n",
              "  </thead>\n",
              "  <tbody>\n",
              "    <tr>\n",
              "      <th>count</th>\n",
              "      <td>45593.000000</td>\n",
              "      <td>45593.000000</td>\n",
              "      <td>45593.000000</td>\n",
              "      <td>45593.000000</td>\n",
              "      <td>45593.000000</td>\n",
              "      <td>45593.000000</td>\n",
              "      <td>45593.000000</td>\n",
              "    </tr>\n",
              "    <tr>\n",
              "      <th>mean</th>\n",
              "      <td>29.544075</td>\n",
              "      <td>4.632367</td>\n",
              "      <td>17.017729</td>\n",
              "      <td>70.231332</td>\n",
              "      <td>17.465186</td>\n",
              "      <td>70.845702</td>\n",
              "      <td>26.294607</td>\n",
              "    </tr>\n",
              "    <tr>\n",
              "      <th>std</th>\n",
              "      <td>5.696793</td>\n",
              "      <td>0.327708</td>\n",
              "      <td>8.185109</td>\n",
              "      <td>22.883647</td>\n",
              "      <td>7.335122</td>\n",
              "      <td>21.118812</td>\n",
              "      <td>9.383806</td>\n",
              "    </tr>\n",
              "    <tr>\n",
              "      <th>min</th>\n",
              "      <td>15.000000</td>\n",
              "      <td>1.000000</td>\n",
              "      <td>-30.905562</td>\n",
              "      <td>-88.366217</td>\n",
              "      <td>0.010000</td>\n",
              "      <td>0.010000</td>\n",
              "      <td>10.000000</td>\n",
              "    </tr>\n",
              "    <tr>\n",
              "      <th>25%</th>\n",
              "      <td>25.000000</td>\n",
              "      <td>4.600000</td>\n",
              "      <td>12.933284</td>\n",
              "      <td>73.170000</td>\n",
              "      <td>12.988453</td>\n",
              "      <td>73.280000</td>\n",
              "      <td>19.000000</td>\n",
              "    </tr>\n",
              "    <tr>\n",
              "      <th>50%</th>\n",
              "      <td>29.000000</td>\n",
              "      <td>4.700000</td>\n",
              "      <td>18.546947</td>\n",
              "      <td>75.898497</td>\n",
              "      <td>18.633934</td>\n",
              "      <td>76.002574</td>\n",
              "      <td>26.000000</td>\n",
              "    </tr>\n",
              "    <tr>\n",
              "      <th>75%</th>\n",
              "      <td>34.000000</td>\n",
              "      <td>4.800000</td>\n",
              "      <td>22.728163</td>\n",
              "      <td>78.044095</td>\n",
              "      <td>22.785049</td>\n",
              "      <td>78.107044</td>\n",
              "      <td>32.000000</td>\n",
              "    </tr>\n",
              "    <tr>\n",
              "      <th>max</th>\n",
              "      <td>50.000000</td>\n",
              "      <td>6.000000</td>\n",
              "      <td>30.914057</td>\n",
              "      <td>88.433452</td>\n",
              "      <td>31.054057</td>\n",
              "      <td>88.563452</td>\n",
              "      <td>54.000000</td>\n",
              "    </tr>\n",
              "  </tbody>\n",
              "</table>\n",
              "</div>"
            ]
          },
          "metadata": {},
          "execution_count": 18
        }
      ]
    },
    {
      "cell_type": "markdown",
      "source": [
        "About the numerical features:\n",
        "\n",
        "* The maximum age of a delivery person is 50 and the mean is arount 29 years old and the minimun are 15.\n",
        "\n",
        "* The delivery person rantings goes froom 1 to 6.\n",
        "\n",
        "* The maximim time (in min) of a delivery is 54 and the minimum time is 10."
      ],
      "metadata": {
        "id": "GjeWh39CuETI"
      }
    },
    {
      "cell_type": "code",
      "source": [
        "correlation_matrix = df.corr()\n",
        "plt.figure(figsize=(10, 8))\n",
        "sns.heatmap(correlation_matrix, annot=True, cmap='coolwarm', vmin=-1, vmax=1)\n",
        "plt.title('Correlation Matrix')\n",
        "plt.show()"
      ],
      "metadata": {
        "colab": {
          "base_uri": "https://localhost:8080/",
          "height": 875
        },
        "id": "m4iG81Vbl6pw",
        "outputId": "ad8286d8-266b-40e0-c1c7-0c5ac180d80d"
      },
      "execution_count": 19,
      "outputs": [
        {
          "output_type": "display_data",
          "data": {
            "text/plain": [
              "<Figure size 1000x800 with 2 Axes>"
            ],
            "image/png": "[encoded data removed]"
          },
          "metadata": {}
        }
      ]
    },
    {
      "cell_type": "markdown",
      "source": [
        "Regarding the correlation matrix, it highlights the correlations between `Time_taken(min)` and `Delivery_person_Age`, as well as `Delivery_person_Ratings`."
      ],
      "metadata": {
        "id": "wg-iYqgfomUN"
      }
    },
    {
      "cell_type": "markdown",
      "source": [
        "## Feature engineering and new informations"
      ],
      "metadata": {
        "id": "aBZUzcEAwCl2"
      }
    },
    {
      "cell_type": "markdown",
      "source": [
        "To advance the project, several DataFrame adjustments are required. Two additional columns will be introduced to capture pertinent information. The first column will reflect the travel distance between the restaurant and the customer, while the second column will represent the speed associated with each vehicle type.\n",
        "\n",
        "For improved DataFrame organization, the `ID` and `Delivery_person_ID` columns will be eliminated. Initially, these columns do not contribute to the construction of the machine learning model.\n",
        "\n",
        "Revisions in the DataFrame structure will facilitate a streamlined approach towards enhancing the model's effectiveness.\n"
      ],
      "metadata": {
        "id": "I0A1SqNawGjH"
      }
    },
    {
      "cell_type": "code",
      "source": [
        "# backup\n",
        "df_new = df.copy()"
      ],
      "metadata": {
        "id": "hiTQDz98xGu1"
      },
      "execution_count": 20,
      "outputs": []
    },
    {
      "cell_type": "code",
      "source": [
        "# List of columns to be deleted\n",
        "columns_to_delete = ['ID', 'Delivery_person_ID']\n",
        "\n",
        "# Drop the specified columns\n",
        "df_new = df_new.drop(columns=columns_to_delete)\n",
        "\n",
        "df_new.head()"
      ],
      "metadata": {
        "colab": {
          "base_uri": "https://localhost:8080/",
          "height": 226
        },
        "id": "EG7aCXfpxfAG",
        "outputId": "303adcd7-dabf-4a1d-efd9-5407f32e1d38"
      },
      "execution_count": 21,
      "outputs": [
        {
          "output_type": "execute_result",
          "data": {
            "text/plain": [
              "   Delivery_person_Age  Delivery_person_Ratings  Restaurant_latitude  \\\n",
              "0                   37                      4.9            22.745049   \n",
              "1                   34                      4.5            12.913041   \n",
              "2                   23                      4.4            12.914264   \n",
              "3                   38                      4.7            11.003669   \n",
              "4                   32                      4.6            12.972793   \n",
              "\n",
              "   Restaurant_longitude  Delivery_location_latitude  \\\n",
              "0             75.892471                   22.765049   \n",
              "1             77.683237                   13.043041   \n",
              "2             77.678400                   12.924264   \n",
              "3             76.976494                   11.053669   \n",
              "4             80.249982                   13.012793   \n",
              "\n",
              "   Delivery_location_longitude Type_of_order Type_of_vehicle  Time_taken(min)  \n",
              "0                    75.912471        Snack      motorcycle                24  \n",
              "1                    77.813237        Snack         scooter                33  \n",
              "2                    77.688400       Drinks      motorcycle                26  \n",
              "3                    77.026494       Buffet      motorcycle                21  \n",
              "4                    80.289982        Snack         scooter                30  "
            ],
            "text/html": [
              "<div>\n",
              "<style scoped>\n",
              "    .dataframe tbody tr th:only-of-type {\n",
              "        vertical-align: middle;\n",
              "    }\n",
              "\n",
              "    .dataframe tbody tr th {\n",
              "        vertical-align: top;\n",
              "    }\n",
              "\n",
              "    .dataframe thead th {\n",
              "        text-align: right;\n",
              "    }\n",
              "</style>\n",
              "<table border=\"1\" class=\"dataframe\">\n",
              "  <thead>\n",
              "    <tr style=\"text-align: right;\">\n",
              "      <th></th>\n",
              "      <th>Delivery_person_Age</th>\n",
              "      <th>Delivery_person_Ratings</th>\n",
              "      <th>Restaurant_latitude</th>\n",
              "      <th>Restaurant_longitude</th>\n",
              "      <th>Delivery_location_latitude</th>\n",
              "      <th>Delivery_location_longitude</th>\n",
              "      <th>Type_of_order</th>\n",
              "      <th>Type_of_vehicle</th>\n",
              "      <th>Time_taken(min)</th>\n",
              "    </tr>\n",
              "  </thead>\n",
              "  <tbody>\n",
              "    <tr>\n",
              "      <th>0</th>\n",
              "      <td>37</td>\n",
              "      <td>4.9</td>\n",
              "      <td>22.745049</td>\n",
              "      <td>75.892471</td>\n",
              "      <td>22.765049</td>\n",
              "      <td>75.912471</td>\n",
              "      <td>Snack</td>\n",
              "      <td>motorcycle</td>\n",
              "      <td>24</td>\n",
              "    </tr>\n",
              "    <tr>\n",
              "      <th>1</th>\n",
              "      <td>34</td>\n",
              "      <td>4.5</td>\n",
              "      <td>12.913041</td>\n",
              "      <td>77.683237</td>\n",
              "      <td>13.043041</td>\n",
              "      <td>77.813237</td>\n",
              "      <td>Snack</td>\n",
              "      <td>scooter</td>\n",
              "      <td>33</td>\n",
              "    </tr>\n",
              "    <tr>\n",
              "      <th>2</th>\n",
              "      <td>23</td>\n",
              "      <td>4.4</td>\n",
              "      <td>12.914264</td>\n",
              "      <td>77.678400</td>\n",
              "      <td>12.924264</td>\n",
              "      <td>77.688400</td>\n",
              "      <td>Drinks</td>\n",
              "      <td>motorcycle</td>\n",
              "      <td>26</td>\n",
              "    </tr>\n",
              "    <tr>\n",
              "      <th>3</th>\n",
              "      <td>38</td>\n",
              "      <td>4.7</td>\n",
              "      <td>11.003669</td>\n",
              "      <td>76.976494</td>\n",
              "      <td>11.053669</td>\n",
              "      <td>77.026494</td>\n",
              "      <td>Buffet</td>\n",
              "      <td>motorcycle</td>\n",
              "      <td>21</td>\n",
              "    </tr>\n",
              "    <tr>\n",
              "      <th>4</th>\n",
              "      <td>32</td>\n",
              "      <td>4.6</td>\n",
              "      <td>12.972793</td>\n",
              "      <td>80.249982</td>\n",
              "      <td>13.012793</td>\n",
              "      <td>80.289982</td>\n",
              "      <td>Snack</td>\n",
              "      <td>scooter</td>\n",
              "      <td>30</td>\n",
              "    </tr>\n",
              "  </tbody>\n",
              "</table>\n",
              "</div>"
            ]
          },
          "metadata": {},
          "execution_count": 21
        }
      ]
    },
    {
      "cell_type": "code",
      "source": [
        "def haversine_distance(lat1, lon1, lat2, lon2):\n",
        "    lat1, lon1, lat2, lon2 = map(np.radians, [lat1, lon1, lat2, lon2])\n",
        "    dlat = lat2 - lat1\n",
        "    dlon = lon2 - lon1\n",
        "    a = np.sin(dlat/2)**2 + np.cos(lat1) * np.cos(lat2) * np.sin(dlon/2)**2\n",
        "    c = 2 * np.arctan2(np.sqrt(a), np.sqrt(1-a))\n",
        "    distance = 6371 * c  # Earth's radius in kilometers\n",
        "    return distance\n",
        "\n",
        "# Calculate distances and create a new column in the DataFrame\n",
        "df_new['distance'] = df_new.apply(lambda row: haversine_distance(row['Restaurant_latitude'], row['Restaurant_longitude'], row['Delivery_location_latitude'], row['Delivery_location_longitude']), axis=1)\n",
        "\n",
        "# Print the DataFrame with distances\n",
        "df_new.head()"
      ],
      "metadata": {
        "colab": {
          "base_uri": "https://localhost:8080/",
          "height": 226
        },
        "id": "nGTzo3l6xraX",
        "outputId": "e58cb8da-e2bb-48cb-9c5c-6349d766f8b1"
      },
      "execution_count": 22,
      "outputs": [
        {
          "output_type": "execute_result",
          "data": {
            "text/plain": [
              "   Delivery_person_Age  Delivery_person_Ratings  Restaurant_latitude  \\\n",
              "0                   37                      4.9            22.745049   \n",
              "1                   34                      4.5            12.913041   \n",
              "2                   23                      4.4            12.914264   \n",
              "3                   38                      4.7            11.003669   \n",
              "4                   32                      4.6            12.972793   \n",
              "\n",
              "   Restaurant_longitude  Delivery_location_latitude  \\\n",
              "0             75.892471                   22.765049   \n",
              "1             77.683237                   13.043041   \n",
              "2             77.678400                   12.924264   \n",
              "3             76.976494                   11.053669   \n",
              "4             80.249982                   13.012793   \n",
              "\n",
              "   Delivery_location_longitude Type_of_order Type_of_vehicle  Time_taken(min)  \\\n",
              "0                    75.912471        Snack      motorcycle                24   \n",
              "1                    77.813237        Snack         scooter                33   \n",
              "2                    77.688400       Drinks      motorcycle                26   \n",
              "3                    77.026494       Buffet      motorcycle                21   \n",
              "4                    80.289982        Snack         scooter                30   \n",
              "\n",
              "    distance  \n",
              "0   3.025149  \n",
              "1  20.183530  \n",
              "2   1.552758  \n",
              "3   7.790401  \n",
              "4   6.210138  "
            ],
            "text/html": [
              "<div>\n",
              "<style scoped>\n",
              "    .dataframe tbody tr th:only-of-type {\n",
              "        vertical-align: middle;\n",
              "    }\n",
              "\n",
              "    .dataframe tbody tr th {\n",
              "        vertical-align: top;\n",
              "    }\n",
              "\n",
              "    .dataframe thead th {\n",
              "        text-align: right;\n",
              "    }\n",
              "</style>\n",
              "<table border=\"1\" class=\"dataframe\">\n",
              "  <thead>\n",
              "    <tr style=\"text-align: right;\">\n",
              "      <th></th>\n",
              "      <th>Delivery_person_Age</th>\n",
              "      <th>Delivery_person_Ratings</th>\n",
              "      <th>Restaurant_latitude</th>\n",
              "      <th>Restaurant_longitude</th>\n",
              "      <th>Delivery_location_latitude</th>\n",
              "      <th>Delivery_location_longitude</th>\n",
              "      <th>Type_of_order</th>\n",
              "      <th>Type_of_vehicle</th>\n",
              "      <th>Time_taken(min)</th>\n",
              "      <th>distance</th>\n",
              "    </tr>\n",
              "  </thead>\n",
              "  <tbody>\n",
              "    <tr>\n",
              "      <th>0</th>\n",
              "      <td>37</td>\n",
              "      <td>4.9</td>\n",
              "      <td>22.745049</td>\n",
              "      <td>75.892471</td>\n",
              "      <td>22.765049</td>\n",
              "      <td>75.912471</td>\n",
              "      <td>Snack</td>\n",
              "      <td>motorcycle</td>\n",
              "      <td>24</td>\n",
              "      <td>3.025149</td>\n",
              "    </tr>\n",
              "    <tr>\n",
              "      <th>1</th>\n",
              "      <td>34</td>\n",
              "      <td>4.5</td>\n",
              "      <td>12.913041</td>\n",
              "      <td>77.683237</td>\n",
              "      <td>13.043041</td>\n",
              "      <td>77.813237</td>\n",
              "      <td>Snack</td>\n",
              "      <td>scooter</td>\n",
              "      <td>33</td>\n",
              "      <td>20.183530</td>\n",
              "    </tr>\n",
              "    <tr>\n",
              "      <th>2</th>\n",
              "      <td>23</td>\n",
              "      <td>4.4</td>\n",
              "      <td>12.914264</td>\n",
              "      <td>77.678400</td>\n",
              "      <td>12.924264</td>\n",
              "      <td>77.688400</td>\n",
              "      <td>Drinks</td>\n",
              "      <td>motorcycle</td>\n",
              "      <td>26</td>\n",
              "      <td>1.552758</td>\n",
              "    </tr>\n",
              "    <tr>\n",
              "      <th>3</th>\n",
              "      <td>38</td>\n",
              "      <td>4.7</td>\n",
              "      <td>11.003669</td>\n",
              "      <td>76.976494</td>\n",
              "      <td>11.053669</td>\n",
              "      <td>77.026494</td>\n",
              "      <td>Buffet</td>\n",
              "      <td>motorcycle</td>\n",
              "      <td>21</td>\n",
              "      <td>7.790401</td>\n",
              "    </tr>\n",
              "    <tr>\n",
              "      <th>4</th>\n",
              "      <td>32</td>\n",
              "      <td>4.6</td>\n",
              "      <td>12.972793</td>\n",
              "      <td>80.249982</td>\n",
              "      <td>13.012793</td>\n",
              "      <td>80.289982</td>\n",
              "      <td>Snack</td>\n",
              "      <td>scooter</td>\n",
              "      <td>30</td>\n",
              "      <td>6.210138</td>\n",
              "    </tr>\n",
              "  </tbody>\n",
              "</table>\n",
              "</div>"
            ]
          },
          "metadata": {},
          "execution_count": 22
        }
      ]
    },
    {
      "cell_type": "code",
      "source": [
        "df_new['Time_taken(hr)'] = df_new['Time_taken(min)']/60\n",
        "df_new['speed'] = df_new['distance']/df_new['Time_taken(hr)']"
      ],
      "metadata": {
        "id": "rqQpa1p6yN5O"
      },
      "execution_count": 23,
      "outputs": []
    },
    {
      "cell_type": "code",
      "source": [
        "df_new.head()"
      ],
      "metadata": {
        "colab": {
          "base_uri": "https://localhost:8080/",
          "height": 226
        },
        "id": "VZz_tWefzD82",
        "outputId": "96da68c7-6427-41f6-d2df-62ee2b191d0f"
      },
      "execution_count": 24,
      "outputs": [
        {
          "output_type": "execute_result",
          "data": {
            "text/plain": [
              "   Delivery_person_Age  Delivery_person_Ratings  Restaurant_latitude  \\\n",
              "0                   37                      4.9            22.745049   \n",
              "1                   34                      4.5            12.913041   \n",
              "2                   23                      4.4            12.914264   \n",
              "3                   38                      4.7            11.003669   \n",
              "4                   32                      4.6            12.972793   \n",
              "\n",
              "   Restaurant_longitude  Delivery_location_latitude  \\\n",
              "0             75.892471                   22.765049   \n",
              "1             77.683237                   13.043041   \n",
              "2             77.678400                   12.924264   \n",
              "3             76.976494                   11.053669   \n",
              "4             80.249982                   13.012793   \n",
              "\n",
              "   Delivery_location_longitude Type_of_order Type_of_vehicle  Time_taken(min)  \\\n",
              "0                    75.912471        Snack      motorcycle                24   \n",
              "1                    77.813237        Snack         scooter                33   \n",
              "2                    77.688400       Drinks      motorcycle                26   \n",
              "3                    77.026494       Buffet      motorcycle                21   \n",
              "4                    80.289982        Snack         scooter                30   \n",
              "\n",
              "    distance  Time_taken(hr)      speed  \n",
              "0   3.025149        0.400000   7.562873  \n",
              "1  20.183530        0.550000  36.697327  \n",
              "2   1.552758        0.433333   3.583287  \n",
              "3   7.790401        0.350000  22.258290  \n",
              "4   6.210138        0.500000  12.420276  "
            ],
            "text/html": [
              "<div>\n",
              "<style scoped>\n",
              "    .dataframe tbody tr th:only-of-type {\n",
              "        vertical-align: middle;\n",
              "    }\n",
              "\n",
              "    .dataframe tbody tr th {\n",
              "        vertical-align: top;\n",
              "    }\n",
              "\n",
              "    .dataframe thead th {\n",
              "        text-align: right;\n",
              "    }\n",
              "</style>\n",
              "<table border=\"1\" class=\"dataframe\">\n",
              "  <thead>\n",
              "    <tr style=\"text-align: right;\">\n",
              "      <th></th>\n",
              "      <th>Delivery_person_Age</th>\n",
              "      <th>Delivery_person_Ratings</th>\n",
              "      <th>Restaurant_latitude</th>\n",
              "      <th>Restaurant_longitude</th>\n",
              "      <th>Delivery_location_latitude</th>\n",
              "      <th>Delivery_location_longitude</th>\n",
              "      <th>Type_of_order</th>\n",
              "      <th>Type_of_vehicle</th>\n",
              "      <th>Time_taken(min)</th>\n",
              "      <th>distance</th>\n",
              "      <th>Time_taken(hr)</th>\n",
              "      <th>speed</th>\n",
              "    </tr>\n",
              "  </thead>\n",
              "  <tbody>\n",
              "    <tr>\n",
              "      <th>0</th>\n",
              "      <td>37</td>\n",
              "      <td>4.9</td>\n",
              "      <td>22.745049</td>\n",
              "      <td>75.892471</td>\n",
              "      <td>22.765049</td>\n",
              "      <td>75.912471</td>\n",
              "      <td>Snack</td>\n",
              "      <td>motorcycle</td>\n",
              "      <td>24</td>\n",
              "      <td>3.025149</td>\n",
              "      <td>0.400000</td>\n",
              "      <td>7.562873</td>\n",
              "    </tr>\n",
              "    <tr>\n",
              "      <th>1</th>\n",
              "      <td>34</td>\n",
              "      <td>4.5</td>\n",
              "      <td>12.913041</td>\n",
              "      <td>77.683237</td>\n",
              "      <td>13.043041</td>\n",
              "      <td>77.813237</td>\n",
              "      <td>Snack</td>\n",
              "      <td>scooter</td>\n",
              "      <td>33</td>\n",
              "      <td>20.183530</td>\n",
              "      <td>0.550000</td>\n",
              "      <td>36.697327</td>\n",
              "    </tr>\n",
              "    <tr>\n",
              "      <th>2</th>\n",
              "      <td>23</td>\n",
              "      <td>4.4</td>\n",
              "      <td>12.914264</td>\n",
              "      <td>77.678400</td>\n",
              "      <td>12.924264</td>\n",
              "      <td>77.688400</td>\n",
              "      <td>Drinks</td>\n",
              "      <td>motorcycle</td>\n",
              "      <td>26</td>\n",
              "      <td>1.552758</td>\n",
              "      <td>0.433333</td>\n",
              "      <td>3.583287</td>\n",
              "    </tr>\n",
              "    <tr>\n",
              "      <th>3</th>\n",
              "      <td>38</td>\n",
              "      <td>4.7</td>\n",
              "      <td>11.003669</td>\n",
              "      <td>76.976494</td>\n",
              "      <td>11.053669</td>\n",
              "      <td>77.026494</td>\n",
              "      <td>Buffet</td>\n",
              "      <td>motorcycle</td>\n",
              "      <td>21</td>\n",
              "      <td>7.790401</td>\n",
              "      <td>0.350000</td>\n",
              "      <td>22.258290</td>\n",
              "    </tr>\n",
              "    <tr>\n",
              "      <th>4</th>\n",
              "      <td>32</td>\n",
              "      <td>4.6</td>\n",
              "      <td>12.972793</td>\n",
              "      <td>80.249982</td>\n",
              "      <td>13.012793</td>\n",
              "      <td>80.289982</td>\n",
              "      <td>Snack</td>\n",
              "      <td>scooter</td>\n",
              "      <td>30</td>\n",
              "      <td>6.210138</td>\n",
              "      <td>0.500000</td>\n",
              "      <td>12.420276</td>\n",
              "    </tr>\n",
              "  </tbody>\n",
              "</table>\n",
              "</div>"
            ]
          },
          "metadata": {},
          "execution_count": 24
        }
      ]
    },
    {
      "cell_type": "code",
      "source": [
        "columns_to_drop = ['Restaurant_latitude', 'Restaurant_longitude', 'Delivery_location_latitude', 'Delivery_location_longitude', 'Time_taken(hr)']\n",
        "\n",
        "df_new = df_new.drop(columns=columns_to_drop )\n",
        "\n",
        "df_new.head()"
      ],
      "metadata": {
        "colab": {
          "base_uri": "https://localhost:8080/",
          "height": 206
        },
        "id": "p_7fNDr4zFYl",
        "outputId": "e07f1ab1-36f0-4f80-84e6-7f2ba5601a3a"
      },
      "execution_count": 25,
      "outputs": [
        {
          "output_type": "execute_result",
          "data": {
            "text/plain": [
              "   Delivery_person_Age  Delivery_person_Ratings Type_of_order Type_of_vehicle  \\\n",
              "0                   37                      4.9        Snack      motorcycle    \n",
              "1                   34                      4.5        Snack         scooter    \n",
              "2                   23                      4.4       Drinks      motorcycle    \n",
              "3                   38                      4.7       Buffet      motorcycle    \n",
              "4                   32                      4.6        Snack         scooter    \n",
              "\n",
              "   Time_taken(min)   distance      speed  \n",
              "0               24   3.025149   7.562873  \n",
              "1               33  20.183530  36.697327  \n",
              "2               26   1.552758   3.583287  \n",
              "3               21   7.790401  22.258290  \n",
              "4               30   6.210138  12.420276  "
            ],
            "text/html": [
              "<div>\n",
              "<style scoped>\n",
              "    .dataframe tbody tr th:only-of-type {\n",
              "        vertical-align: middle;\n",
              "    }\n",
              "\n",
              "    .dataframe tbody tr th {\n",
              "        vertical-align: top;\n",
              "    }\n",
              "\n",
              "    .dataframe thead th {\n",
              "        text-align: right;\n",
              "    }\n",
              "</style>\n",
              "<table border=\"1\" class=\"dataframe\">\n",
              "  <thead>\n",
              "    <tr style=\"text-align: right;\">\n",
              "      <th></th>\n",
              "      <th>Delivery_person_Age</th>\n",
              "      <th>Delivery_person_Ratings</th>\n",
              "      <th>Type_of_order</th>\n",
              "      <th>Type_of_vehicle</th>\n",
              "      <th>Time_taken(min)</th>\n",
              "      <th>distance</th>\n",
              "      <th>speed</th>\n",
              "    </tr>\n",
              "  </thead>\n",
              "  <tbody>\n",
              "    <tr>\n",
              "      <th>0</th>\n",
              "      <td>37</td>\n",
              "      <td>4.9</td>\n",
              "      <td>Snack</td>\n",
              "      <td>motorcycle</td>\n",
              "      <td>24</td>\n",
              "      <td>3.025149</td>\n",
              "      <td>7.562873</td>\n",
              "    </tr>\n",
              "    <tr>\n",
              "      <th>1</th>\n",
              "      <td>34</td>\n",
              "      <td>4.5</td>\n",
              "      <td>Snack</td>\n",
              "      <td>scooter</td>\n",
              "      <td>33</td>\n",
              "      <td>20.183530</td>\n",
              "      <td>36.697327</td>\n",
              "    </tr>\n",
              "    <tr>\n",
              "      <th>2</th>\n",
              "      <td>23</td>\n",
              "      <td>4.4</td>\n",
              "      <td>Drinks</td>\n",
              "      <td>motorcycle</td>\n",
              "      <td>26</td>\n",
              "      <td>1.552758</td>\n",
              "      <td>3.583287</td>\n",
              "    </tr>\n",
              "    <tr>\n",
              "      <th>3</th>\n",
              "      <td>38</td>\n",
              "      <td>4.7</td>\n",
              "      <td>Buffet</td>\n",
              "      <td>motorcycle</td>\n",
              "      <td>21</td>\n",
              "      <td>7.790401</td>\n",
              "      <td>22.258290</td>\n",
              "    </tr>\n",
              "    <tr>\n",
              "      <th>4</th>\n",
              "      <td>32</td>\n",
              "      <td>4.6</td>\n",
              "      <td>Snack</td>\n",
              "      <td>scooter</td>\n",
              "      <td>30</td>\n",
              "      <td>6.210138</td>\n",
              "      <td>12.420276</td>\n",
              "    </tr>\n",
              "  </tbody>\n",
              "</table>\n",
              "</div>"
            ]
          },
          "metadata": {},
          "execution_count": 25
        }
      ]
    },
    {
      "cell_type": "code",
      "source": [
        "df_new[['distance', 'speed']].describe()"
      ],
      "metadata": {
        "colab": {
          "base_uri": "https://localhost:8080/",
          "height": 300
        },
        "id": "yzk539_1zfTl",
        "outputId": "f856e390-4325-4fbf-897f-573c9b0f07d6"
      },
      "execution_count": 26,
      "outputs": [
        {
          "output_type": "execute_result",
          "data": {
            "text/plain": [
              "           distance          speed\n",
              "count  45593.000000   45593.000000\n",
              "mean      99.303911     262.045334\n",
              "std     1099.731281    3147.743785\n",
              "min        1.465067       1.696010\n",
              "25%        4.663493      12.581569\n",
              "50%        9.264281      20.725588\n",
              "75%       13.763977      31.595710\n",
              "max    19692.674606  107403.910650"
            ],
            "text/html": [
              "<div>\n",
              "<style scoped>\n",
              "    .dataframe tbody tr th:only-of-type {\n",
              "        vertical-align: middle;\n",
              "    }\n",
              "\n",
              "    .dataframe tbody tr th {\n",
              "        vertical-align: top;\n",
              "    }\n",
              "\n",
              "    .dataframe thead th {\n",
              "        text-align: right;\n",
              "    }\n",
              "</style>\n",
              "<table border=\"1\" class=\"dataframe\">\n",
              "  <thead>\n",
              "    <tr style=\"text-align: right;\">\n",
              "      <th></th>\n",
              "      <th>distance</th>\n",
              "      <th>speed</th>\n",
              "    </tr>\n",
              "  </thead>\n",
              "  <tbody>\n",
              "    <tr>\n",
              "      <th>count</th>\n",
              "      <td>45593.000000</td>\n",
              "      <td>45593.000000</td>\n",
              "    </tr>\n",
              "    <tr>\n",
              "      <th>mean</th>\n",
              "      <td>99.303911</td>\n",
              "      <td>262.045334</td>\n",
              "    </tr>\n",
              "    <tr>\n",
              "      <th>std</th>\n",
              "      <td>1099.731281</td>\n",
              "      <td>3147.743785</td>\n",
              "    </tr>\n",
              "    <tr>\n",
              "      <th>min</th>\n",
              "      <td>1.465067</td>\n",
              "      <td>1.696010</td>\n",
              "    </tr>\n",
              "    <tr>\n",
              "      <th>25%</th>\n",
              "      <td>4.663493</td>\n",
              "      <td>12.581569</td>\n",
              "    </tr>\n",
              "    <tr>\n",
              "      <th>50%</th>\n",
              "      <td>9.264281</td>\n",
              "      <td>20.725588</td>\n",
              "    </tr>\n",
              "    <tr>\n",
              "      <th>75%</th>\n",
              "      <td>13.763977</td>\n",
              "      <td>31.595710</td>\n",
              "    </tr>\n",
              "    <tr>\n",
              "      <th>max</th>\n",
              "      <td>19692.674606</td>\n",
              "      <td>107403.910650</td>\n",
              "    </tr>\n",
              "  </tbody>\n",
              "</table>\n",
              "</div>"
            ]
          },
          "metadata": {},
          "execution_count": 26
        }
      ]
    },
    {
      "cell_type": "markdown",
      "source": [
        "The introduction of new features has unveiled certain data inconsistencies. For instance, within the distance column, while the maximum distance reaches 19692.67 km, the fourth quartile rests at 13.76 km. A parallel issue arises within the speed column, with a fourth quartile value of 31.59, yet an exceptional maximum value of 107403.91. These disparities warrant further investigation to ascertain potential anomalies or errors in the dataset."
      ],
      "metadata": {
        "id": "xfYjw0WSzzCV"
      }
    },
    {
      "cell_type": "code",
      "source": [
        "# Create separate boxplots for 'distance' and 'speed'\n",
        "plt.figure(figsize=(12, 6))\n",
        "\n",
        "# Boxplot for 'distance'\n",
        "plt.subplot(1, 2, 1)  # Subplot 1\n",
        "plt.boxplot(df_new['distance'])\n",
        "plt.title('Boxplot of Distance')\n",
        "plt.ylabel('Distance (km)')\n",
        "\n",
        "# Boxplot for 'speed'\n",
        "plt.subplot(1, 2, 2)  # Subplot 2\n",
        "plt.boxplot(df_new['speed'])\n",
        "plt.title('Boxplot of Speed')\n",
        "plt.ylabel('Speed (km/h)')\n",
        "\n",
        "plt.tight_layout()  # Adjust layout\n",
        "plt.show()"
      ],
      "metadata": {
        "colab": {
          "base_uri": "https://localhost:8080/",
          "height": 606
        },
        "id": "zijFMzog1eJD",
        "outputId": "f2393d5c-6ed9-4b84-be57-1eaa6fdeba89"
      },
      "execution_count": 27,
      "outputs": [
        {
          "output_type": "display_data",
          "data": {
            "text/plain": [
              "<Figure size 1200x600 with 2 Axes>"
            ],
            "image/png": "[encoded data removed]"
          },
          "metadata": {}
        }
      ]
    },
    {
      "cell_type": "code",
      "source": [
        "def outlier_boundary(dataset, column_list):\n",
        "    # Iterate over the columns from the list passed as an argument\n",
        "    for column in column_list:\n",
        "        # Check if the column exists in the dataset\n",
        "        if column in dataset:\n",
        "            # Calculate summary statistics for the column\n",
        "            desc = dataset[column].describe()\n",
        "            # Retrieve the first quartile (Q1)\n",
        "            Q1 = desc[\"25%\"]\n",
        "            # Retrieve the third quartile (Q3)\n",
        "            Q3 = desc[\"75%\"]\n",
        "            # Calculate the interquartile range (IQR)\n",
        "            IQR = Q3 - Q1\n",
        "            # Calculate the upper and lower boundaries\n",
        "            lower = Q1 - 1.5 * IQR\n",
        "            upper = Q3 + 1.5 * IQR\n",
        "            # Print the upper and lower boundaries for the column\n",
        "            print(f\"The upper boundary for column {column} is {upper} and the lower boundary is {lower}.\")\n",
        "\n",
        "# Application\n",
        "outlier_boundary(df_new, ['distance', 'speed'])"
      ],
      "metadata": {
        "colab": {
          "base_uri": "https://localhost:8080/"
        },
        "id": "Lb1_SiXY1nvE",
        "outputId": "6ce0116a-047a-416f-b265-517cbf9b5162"
      },
      "execution_count": 28,
      "outputs": [
        {
          "output_type": "stream",
          "name": "stdout",
          "text": [
            "The upper boundary for column distance is 27.414703351191108 and the lower boundary is -8.987232986844802.\n",
            "The upper boundary for column speed is 60.11692182808743 and the lower boundary is -15.939642264924677.\n"
          ]
        }
      ]
    },
    {
      "cell_type": "code",
      "source": [
        "cols_outliers = ['distance', 'speed']\n",
        "\n",
        "# Loop for each feature\n",
        "for feature in cols_outliers:\n",
        "    Q1 = df_new[feature].quantile(q=0.25)  # Define the first quartile\n",
        "    Q3 = df_new[feature].quantile(q=0.75)  # Define the third quartile\n",
        "    IQR = Q3 - Q1  # Define the interquartile range\n",
        "    Upper_Limit = Q3 + 1.5 * IQR  # Define the Upper Limit\n",
        "    Lower_Limit = Q1 - 1.5 * IQR  # Define the Lower Limit\n",
        "\n",
        "    # Select only rows without outliers\n",
        "    df_new = df_new.loc[(df_new[feature] >= Lower_Limit) & (df_new[feature] <= Upper_Limit)]\n",
        "\n",
        "    # Reset the index\n",
        "    df_new = df_new.reset_index(drop=True)"
      ],
      "metadata": {
        "id": "qgioa2Cd2OO0"
      },
      "execution_count": 29,
      "outputs": []
    },
    {
      "cell_type": "code",
      "source": [
        "df_new[['distance', 'speed']].describe()"
      ],
      "metadata": {
        "colab": {
          "base_uri": "https://localhost:8080/",
          "height": 300
        },
        "id": "r85L0Vsw2rZk",
        "outputId": "8b71ab77-b0b8-42ba-985d-e0f22ba8922e"
      },
      "execution_count": 30,
      "outputs": [
        {
          "output_type": "execute_result",
          "data": {
            "text/plain": [
              "           distance         speed\n",
              "count  43585.000000  43585.000000\n",
              "mean       9.435049     22.060387\n",
              "std        5.452926     12.720305\n",
              "min        1.465067      1.696010\n",
              "25%        4.657347     12.174454\n",
              "50%        9.121874     19.948650\n",
              "75%       13.407034     29.828812\n",
              "max       20.969489     59.092155"
            ],
            "text/html": [
              "<div>\n",
              "<style scoped>\n",
              "    .dataframe tbody tr th:only-of-type {\n",
              "        vertical-align: middle;\n",
              "    }\n",
              "\n",
              "    .dataframe tbody tr th {\n",
              "        vertical-align: top;\n",
              "    }\n",
              "\n",
              "    .dataframe thead th {\n",
              "        text-align: right;\n",
              "    }\n",
              "</style>\n",
              "<table border=\"1\" class=\"dataframe\">\n",
              "  <thead>\n",
              "    <tr style=\"text-align: right;\">\n",
              "      <th></th>\n",
              "      <th>distance</th>\n",
              "      <th>speed</th>\n",
              "    </tr>\n",
              "  </thead>\n",
              "  <tbody>\n",
              "    <tr>\n",
              "      <th>count</th>\n",
              "      <td>43585.000000</td>\n",
              "      <td>43585.000000</td>\n",
              "    </tr>\n",
              "    <tr>\n",
              "      <th>mean</th>\n",
              "      <td>9.435049</td>\n",
              "      <td>22.060387</td>\n",
              "    </tr>\n",
              "    <tr>\n",
              "      <th>std</th>\n",
              "      <td>5.452926</td>\n",
              "      <td>12.720305</td>\n",
              "    </tr>\n",
              "    <tr>\n",
              "      <th>min</th>\n",
              "      <td>1.465067</td>\n",
              "      <td>1.696010</td>\n",
              "    </tr>\n",
              "    <tr>\n",
              "      <th>25%</th>\n",
              "      <td>4.657347</td>\n",
              "      <td>12.174454</td>\n",
              "    </tr>\n",
              "    <tr>\n",
              "      <th>50%</th>\n",
              "      <td>9.121874</td>\n",
              "      <td>19.948650</td>\n",
              "    </tr>\n",
              "    <tr>\n",
              "      <th>75%</th>\n",
              "      <td>13.407034</td>\n",
              "      <td>29.828812</td>\n",
              "    </tr>\n",
              "    <tr>\n",
              "      <th>max</th>\n",
              "      <td>20.969489</td>\n",
              "      <td>59.092155</td>\n",
              "    </tr>\n",
              "  </tbody>\n",
              "</table>\n",
              "</div>"
            ]
          },
          "metadata": {},
          "execution_count": 30
        }
      ]
    },
    {
      "cell_type": "markdown",
      "source": [
        "Upon data adjustment, notable observations arise. The maximum distance value now hovers at approximately 21 km, while the minimum rests at 1.46 km. Similarly, within the speed feature, the maximum recorded value is 59 km/hr, while the minimum registers around 1.7 km/hr. These refined ranges suggest that the dataset is now exhibiting a more coherent and accurate representation of the underlying information."
      ],
      "metadata": {
        "id": "G3EvIOcv2tm8"
      }
    },
    {
      "cell_type": "markdown",
      "source": [
        "## Preprocessing the data"
      ],
      "metadata": {
        "id": "dzNPaCn42267"
      }
    },
    {
      "cell_type": "markdown",
      "source": [
        "We are now entering the preprocessing phase to prepare our features before constructing the machine learning model.\n",
        "\n",
        "The preprocessing steps involve:\n",
        "\n",
        "1. **Scaling Numerical Features:** To ensure that our model performs optimally, we will apply feature scaling to `Delivery_person_Age` using `StandardScaler` and to `Delivery_person_Ratings` using `MinMaxScaler`. This will standardize the age values and scale the ratings within a specific range to make them compatible with the model's requirements.\n",
        "\n",
        "2. **Encoding Categorical Features:** Additionally, we will use `OneHotEncoder` to encode the categorical variables `Type_of_order` and `Type_of_vehicle`. This transformation will convert these categorical variables into numerical format, creating distinct binary columns for each category. This way, the model can effectively use these features during training.\n",
        "\n",
        "By conducting these preprocessing steps, we aim to establish a solid foundation for building an effective machine learning model that capitalizes on the inherent characteristics of our features."
      ],
      "metadata": {
        "id": "2EOIS0GA4oaZ"
      }
    },
    {
      "cell_type": "code",
      "source": [
        "# preprocessing numerical features\n",
        "\n",
        "std_scaler = StandardScaler()\n",
        "min_max = MinMaxScaler()\n",
        "\n",
        "df_new['std_Delivery_person_Age'] = std_scaler.fit_transform(df_new['Delivery_person_Age'].values.reshape(-1,1))\n",
        "df_new['std_Delivery_person_Ratings'] = min_max.fit_transform(df_new['Delivery_person_Ratings'].values.reshape(-1,1))\n",
        "\n",
        "df_new.drop(['std_Delivery_person_Age', 'Delivery_person_Ratings'], axis=1, inplace=True)"
      ],
      "metadata": {
        "id": "nJ_gFVj-G4rZ"
      },
      "execution_count": 31,
      "outputs": []
    },
    {
      "cell_type": "code",
      "source": [
        "df_new.head()"
      ],
      "metadata": {
        "id": "PwFSpREVHQuo",
        "colab": {
          "base_uri": "https://localhost:8080/",
          "height": 206
        },
        "outputId": "fb34c187-cd5b-4e67-9020-febba75b86fe"
      },
      "execution_count": 32,
      "outputs": [
        {
          "output_type": "execute_result",
          "data": {
            "text/plain": [
              "   Delivery_person_Age Type_of_order Type_of_vehicle  Time_taken(min)  \\\n",
              "0                   37        Snack      motorcycle                24   \n",
              "1                   34        Snack         scooter                33   \n",
              "2                   23       Drinks      motorcycle                26   \n",
              "3                   38       Buffet      motorcycle                21   \n",
              "4                   32        Snack         scooter                30   \n",
              "\n",
              "    distance      speed  std_Delivery_person_Ratings  \n",
              "0   3.025149   7.562873                         0.78  \n",
              "1  20.183530  36.697327                         0.70  \n",
              "2   1.552758   3.583287                         0.68  \n",
              "3   7.790401  22.258290                         0.74  \n",
              "4   6.210138  12.420276                         0.72  "
            ],
            "text/html": [
              "<div>\n",
              "<style scoped>\n",
              "    .dataframe tbody tr th:only-of-type {\n",
              "        vertical-align: middle;\n",
              "    }\n",
              "\n",
              "    .dataframe tbody tr th {\n",
              "        vertical-align: top;\n",
              "    }\n",
              "\n",
              "    .dataframe thead th {\n",
              "        text-align: right;\n",
              "    }\n",
              "</style>\n",
              "<table border=\"1\" class=\"dataframe\">\n",
              "  <thead>\n",
              "    <tr style=\"text-align: right;\">\n",
              "      <th></th>\n",
              "      <th>Delivery_person_Age</th>\n",
              "      <th>Type_of_order</th>\n",
              "      <th>Type_of_vehicle</th>\n",
              "      <th>Time_taken(min)</th>\n",
              "      <th>distance</th>\n",
              "      <th>speed</th>\n",
              "      <th>std_Delivery_person_Ratings</th>\n",
              "    </tr>\n",
              "  </thead>\n",
              "  <tbody>\n",
              "    <tr>\n",
              "      <th>0</th>\n",
              "      <td>37</td>\n",
              "      <td>Snack</td>\n",
              "      <td>motorcycle</td>\n",
              "      <td>24</td>\n",
              "      <td>3.025149</td>\n",
              "      <td>7.562873</td>\n",
              "      <td>0.78</td>\n",
              "    </tr>\n",
              "    <tr>\n",
              "      <th>1</th>\n",
              "      <td>34</td>\n",
              "      <td>Snack</td>\n",
              "      <td>scooter</td>\n",
              "      <td>33</td>\n",
              "      <td>20.183530</td>\n",
              "      <td>36.697327</td>\n",
              "      <td>0.70</td>\n",
              "    </tr>\n",
              "    <tr>\n",
              "      <th>2</th>\n",
              "      <td>23</td>\n",
              "      <td>Drinks</td>\n",
              "      <td>motorcycle</td>\n",
              "      <td>26</td>\n",
              "      <td>1.552758</td>\n",
              "      <td>3.583287</td>\n",
              "      <td>0.68</td>\n",
              "    </tr>\n",
              "    <tr>\n",
              "      <th>3</th>\n",
              "      <td>38</td>\n",
              "      <td>Buffet</td>\n",
              "      <td>motorcycle</td>\n",
              "      <td>21</td>\n",
              "      <td>7.790401</td>\n",
              "      <td>22.258290</td>\n",
              "      <td>0.74</td>\n",
              "    </tr>\n",
              "    <tr>\n",
              "      <th>4</th>\n",
              "      <td>32</td>\n",
              "      <td>Snack</td>\n",
              "      <td>scooter</td>\n",
              "      <td>30</td>\n",
              "      <td>6.210138</td>\n",
              "      <td>12.420276</td>\n",
              "      <td>0.72</td>\n",
              "    </tr>\n",
              "  </tbody>\n",
              "</table>\n",
              "</div>"
            ]
          },
          "metadata": {},
          "execution_count": 32
        }
      ]
    },
    {
      "cell_type": "code",
      "source": [
        "# preprocessing categorical features\n",
        "\n",
        "ohe = OneHotEncoder()\n",
        "\n",
        "cols_to_onehot = ['Type_of_order', 'Type_of_vehicle']\n",
        "\n",
        "df_encoded = ohe.fit_transform(df_new[cols_to_onehot])\n",
        "df_encoded = pd.DataFrame(df_encoded.toarray(), columns=ohe.get_feature_names_out(cols_to_onehot))\n",
        "\n",
        "# Drop the original categorical columns from df_new\n",
        "df_new.drop(columns=cols_to_onehot, inplace=True)\n",
        "\n",
        "# Concatenate the encoded DataFrame to df_new\n",
        "df_new = pd.concat([df_new.reset_index(drop=True), df_encoded], axis=1)"
      ],
      "metadata": {
        "id": "zGk7QtlyRRnd"
      },
      "execution_count": 33,
      "outputs": []
    },
    {
      "cell_type": "code",
      "source": [
        "df_new.head()"
      ],
      "metadata": {
        "colab": {
          "base_uri": "https://localhost:8080/",
          "height": 226
        },
        "id": "0vsTQe4PSKh9",
        "outputId": "b6ea6ae8-01f6-4270-be3f-365d18028db9"
      },
      "execution_count": 34,
      "outputs": [
        {
          "output_type": "execute_result",
          "data": {
            "text/plain": [
              "   Delivery_person_Age  Time_taken(min)   distance      speed  \\\n",
              "0                   37               24   3.025149   7.562873   \n",
              "1                   34               33  20.183530  36.697327   \n",
              "2                   23               26   1.552758   3.583287   \n",
              "3                   38               21   7.790401  22.258290   \n",
              "4                   32               30   6.210138  12.420276   \n",
              "\n",
              "   std_Delivery_person_Ratings  Type_of_order_Buffet   Type_of_order_Drinks   \\\n",
              "0                         0.78                    0.0                    0.0   \n",
              "1                         0.70                    0.0                    0.0   \n",
              "2                         0.68                    0.0                    1.0   \n",
              "3                         0.74                    1.0                    0.0   \n",
              "4                         0.72                    0.0                    0.0   \n",
              "\n",
              "   Type_of_order_Meal   Type_of_order_Snack   Type_of_vehicle_bicycle   \\\n",
              "0                  0.0                   1.0                       0.0   \n",
              "1                  0.0                   1.0                       0.0   \n",
              "2                  0.0                   0.0                       0.0   \n",
              "3                  0.0                   0.0                       0.0   \n",
              "4                  0.0                   1.0                       0.0   \n",
              "\n",
              "   Type_of_vehicle_electric_scooter   Type_of_vehicle_motorcycle   \\\n",
              "0                                0.0                          1.0   \n",
              "1                                0.0                          0.0   \n",
              "2                                0.0                          1.0   \n",
              "3                                0.0                          1.0   \n",
              "4                                0.0                          0.0   \n",
              "\n",
              "   Type_of_vehicle_scooter   \n",
              "0                       0.0  \n",
              "1                       1.0  \n",
              "2                       0.0  \n",
              "3                       0.0  \n",
              "4                       1.0  "
            ],
            "text/html": [
              "<div>\n",
              "<style scoped>\n",
              "    .dataframe tbody tr th:only-of-type {\n",
              "        vertical-align: middle;\n",
              "    }\n",
              "\n",
              "    .dataframe tbody tr th {\n",
              "        vertical-align: top;\n",
              "    }\n",
              "\n",
              "    .dataframe thead th {\n",
              "        text-align: right;\n",
              "    }\n",
              "</style>\n",
              "<table border=\"1\" class=\"dataframe\">\n",
              "  <thead>\n",
              "    <tr style=\"text-align: right;\">\n",
              "      <th></th>\n",
              "      <th>Delivery_person_Age</th>\n",
              "      <th>Time_taken(min)</th>\n",
              "      <th>distance</th>\n",
              "      <th>speed</th>\n",
              "      <th>std_Delivery_person_Ratings</th>\n",
              "      <th>Type_of_order_Buffet</th>\n",
              "      <th>Type_of_order_Drinks</th>\n",
              "      <th>Type_of_order_Meal</th>\n",
              "      <th>Type_of_order_Snack</th>\n",
              "      <th>Type_of_vehicle_bicycle</th>\n",
              "      <th>Type_of_vehicle_electric_scooter</th>\n",
              "      <th>Type_of_vehicle_motorcycle</th>\n",
              "      <th>Type_of_vehicle_scooter</th>\n",
              "    </tr>\n",
              "  </thead>\n",
              "  <tbody>\n",
              "    <tr>\n",
              "      <th>0</th>\n",
              "      <td>37</td>\n",
              "      <td>24</td>\n",
              "      <td>3.025149</td>\n",
              "      <td>7.562873</td>\n",
              "      <td>0.78</td>\n",
              "      <td>0.0</td>\n",
              "      <td>0.0</td>\n",
              "      <td>0.0</td>\n",
              "      <td>1.0</td>\n",
              "      <td>0.0</td>\n",
              "      <td>0.0</td>\n",
              "      <td>1.0</td>\n",
              "      <td>0.0</td>\n",
              "    </tr>\n",
              "    <tr>\n",
              "      <th>1</th>\n",
              "      <td>34</td>\n",
              "      <td>33</td>\n",
              "      <td>20.183530</td>\n",
              "      <td>36.697327</td>\n",
              "      <td>0.70</td>\n",
              "      <td>0.0</td>\n",
              "      <td>0.0</td>\n",
              "      <td>0.0</td>\n",
              "      <td>1.0</td>\n",
              "      <td>0.0</td>\n",
              "      <td>0.0</td>\n",
              "      <td>0.0</td>\n",
              "      <td>1.0</td>\n",
              "    </tr>\n",
              "    <tr>\n",
              "      <th>2</th>\n",
              "      <td>23</td>\n",
              "      <td>26</td>\n",
              "      <td>1.552758</td>\n",
              "      <td>3.583287</td>\n",
              "      <td>0.68</td>\n",
              "      <td>0.0</td>\n",
              "      <td>1.0</td>\n",
              "      <td>0.0</td>\n",
              "      <td>0.0</td>\n",
              "      <td>0.0</td>\n",
              "      <td>0.0</td>\n",
              "      <td>1.0</td>\n",
              "      <td>0.0</td>\n",
              "    </tr>\n",
              "    <tr>\n",
              "      <th>3</th>\n",
              "      <td>38</td>\n",
              "      <td>21</td>\n",
              "      <td>7.790401</td>\n",
              "      <td>22.258290</td>\n",
              "      <td>0.74</td>\n",
              "      <td>1.0</td>\n",
              "      <td>0.0</td>\n",
              "      <td>0.0</td>\n",
              "      <td>0.0</td>\n",
              "      <td>0.0</td>\n",
              "      <td>0.0</td>\n",
              "      <td>1.0</td>\n",
              "      <td>0.0</td>\n",
              "    </tr>\n",
              "    <tr>\n",
              "      <th>4</th>\n",
              "      <td>32</td>\n",
              "      <td>30</td>\n",
              "      <td>6.210138</td>\n",
              "      <td>12.420276</td>\n",
              "      <td>0.72</td>\n",
              "      <td>0.0</td>\n",
              "      <td>0.0</td>\n",
              "      <td>0.0</td>\n",
              "      <td>1.0</td>\n",
              "      <td>0.0</td>\n",
              "      <td>0.0</td>\n",
              "      <td>0.0</td>\n",
              "      <td>1.0</td>\n",
              "    </tr>\n",
              "  </tbody>\n",
              "</table>\n",
              "</div>"
            ]
          },
          "metadata": {},
          "execution_count": 34
        }
      ]
    },
    {
      "cell_type": "code",
      "source": [
        "X = df_new.drop('Time_taken(min)', axis = 1)\n",
        "y = df_new['Time_taken(min)']\n",
        "\n",
        "X_train, X_test, y_train, y_test = train_test_split(X,y)"
      ],
      "metadata": {
        "id": "IG0PNdGuSw4l"
      },
      "execution_count": 35,
      "outputs": []
    },
    {
      "cell_type": "markdown",
      "source": [
        "## Creating a Machine Learning Model\n",
        "\n"
      ],
      "metadata": {
        "id": "RVSefHknS_nE"
      }
    },
    {
      "cell_type": "code",
      "source": [
        "models = [\n",
        "    LinearRegression(),\n",
        "    Ridge(),\n",
        "    Lasso(),\n",
        "    ElasticNet(),\n",
        "    RandomForestRegressor(),\n",
        "    GradientBoostingRegressor(),\n",
        "    SVR(kernel='linear'),\n",
        "    SVR(kernel='rbf'),\n",
        "]\n",
        "\n",
        "scoring = {\n",
        "    'r2': 'r2',\n",
        "    'neg_mean_absolute_error': make_scorer(mean_absolute_error),\n",
        "    'neg_mean_squared_error': make_scorer(mean_squared_error),\n",
        "}\n",
        "\n",
        "for model in models:\n",
        "    print(f\"Model: {model.__class__.__name__}\")\n",
        "    scores = cross_validate(model, X_train, y_train, cv=KFold(n_splits=5, shuffle=True, random_state=42), scoring=scoring)\n",
        "\n",
        "    r2_mean = np.mean(scores['test_r2'])\n",
        "    mae_mean = np.mean(scores['test_neg_mean_absolute_error'])\n",
        "    rmse_mean = np.mean(scores['test_neg_mean_squared_error'])\n",
        "\n",
        "    print(f\"R2: {r2_mean:.4f}\")\n",
        "    print(f\"MAE: {mae_mean:.4f}\")\n",
        "    print(f\"MSE: {rmse_mean:.4f}\")\n",
        "    print(\"-\" * 30)"
      ],
      "metadata": {
        "colab": {
          "base_uri": "https://localhost:8080/"
        },
        "id": "XkI6FpqdV7Fz",
        "outputId": "75aef454-2eae-4d21-9b98-0b70187c8bf4"
      },
      "execution_count": 37,
      "outputs": [
        {
          "output_type": "stream",
          "name": "stdout",
          "text": [
            "Model: LinearRegression\n",
            "R2: 0.8120\n",
            "MAE: 2.9569\n",
            "MSE: 16.1735\n",
            "------------------------------\n",
            "Model: Ridge\n",
            "R2: 0.8120\n",
            "MAE: 2.9569\n",
            "MSE: 16.1734\n",
            "------------------------------\n",
            "Model: Lasso\n",
            "R2: 0.8040\n",
            "MAE: 3.0053\n",
            "MSE: 16.8641\n",
            "------------------------------\n",
            "Model: ElasticNet\n",
            "R2: 0.8024\n",
            "MAE: 3.0141\n",
            "MSE: 16.9981\n",
            "------------------------------\n",
            "Model: RandomForestRegressor\n",
            "R2: 0.9995\n",
            "MAE: 0.0600\n",
            "MSE: 0.0471\n",
            "------------------------------\n",
            "Model: GradientBoostingRegressor\n",
            "R2: 0.9772\n",
            "MAE: 1.0048\n",
            "MSE: 1.9626\n",
            "------------------------------\n",
            "Model: SVR\n",
            "R2: 0.8063\n",
            "MAE: 2.8983\n",
            "MSE: 16.6634\n",
            "------------------------------\n",
            "Model: SVR\n",
            "R2: 0.9563\n",
            "MAE: 0.9187\n",
            "MSE: 3.7591\n",
            "------------------------------\n"
          ]
        }
      ]
    },
    {
      "cell_type": "markdown",
      "source": [
        "The RandomForest Regressor emerges as the optimal model, showcasing superior performance across various evaluation metrics.\n",
        "\n",
        "Visualizing the learning curve post cross-validation helps assess bias, variance, data sufficiency, and model performance. It's a useful tool to detect underfitting or overfitting, understand generalization, and identify areas for optimization."
      ],
      "metadata": {
        "id": "WoFU6g13ZPbs"
      }
    },
    {
      "cell_type": "code",
      "source": [
        "def plot_learning_curve(estimator, X, y, title):\n",
        "    train_sizes, train_scores, test_scores = learning_curve(\n",
        "        estimator, X, y, cv=5, scoring='r2', train_sizes=np.linspace(0.1, 1.0, 10)\n",
        "    )\n",
        "\n",
        "    train_scores_mean = np.mean(train_scores, axis=1)\n",
        "    test_scores_mean = np.mean(test_scores, axis=1)\n",
        "\n",
        "    plt.figure(figsize=(10, 6))\n",
        "    plt.title(title)\n",
        "    plt.xlabel(\"Training Examples\")\n",
        "    plt.ylabel(\"R2\")\n",
        "    plt.grid()\n",
        "    plt.plot(train_sizes, train_scores_mean, 'o-', color=\"r\", label=\"Training error\")\n",
        "    plt.plot(train_sizes, test_scores_mean, 'o-', color=\"g\", label=\"Cross-validation error\")\n",
        "    plt.legend(loc=\"best\")\n",
        "    plt.show()\n",
        "\n",
        "\n",
        "model = RandomForestRegressor()\n",
        "plot_learning_curve(model, X_train, y_train, \"Random Forest Learning Curve\")"
      ],
      "metadata": {
        "colab": {
          "base_uri": "https://localhost:8080/",
          "height": 562
        },
        "id": "rVAkoFwRROob",
        "outputId": "7a8df828-526c-4e08-daed-a55e355a06d7"
      },
      "execution_count": 55,
      "outputs": [
        {
          "output_type": "display_data",
          "data": {
            "text/plain": [
              "<Figure size 1000x600 with 1 Axes>"
            ],
            "image/png": "[encoded data removed]"
          },
          "metadata": {}
        }
      ]
    },
    {
      "cell_type": "markdown",
      "source": [
        "### Tuning hyperparameters"
      ],
      "metadata": {
        "id": "Q6dII-RFTYVh"
      }
    },
    {
      "cell_type": "markdown",
      "source": [
        "The R-squared (R2) value is near 1, it indicates that the model is explaining a large portion of the variance in the target variable. In other words, the model's predictions are closely aligned with the actual values. However, even if the R2 value is high, it's still important to consider hyperparameter tuning and other aspects of model evaluation:\n",
        "\n",
        "**Optimal Performance**: Despite an R2 close to 1 indicating favorable outcomes, exploring different hyperparameter configurations could potentially yield further advancements in model efficacy.\n",
        "\n",
        "**Generalization**: Upholding the model's capacity to generalize across new, unseen data is pivotal. Hyperparameter refinement aids in averting overfitting and enhances adaptability to diverse datasets.\n",
        "\n",
        "**Future Data**: Your current dataset might harmonize well with existing hyperparameters. However, the real-world data landscape varies, and hyperparameter fine-tuning enhances model robustness for evolving scenarios.\n",
        "\n",
        "**Changing Data**: Over time, shifts in your dataset may render current hyperparameters suboptimal. Regular hyperparameter adjustments enable your model to flexibly adapt to evolving data dynamics.\n",
        "\n",
        "**Incremental Enhancement**: Even marginal improvements resulting from hyperparameter tuning can confer gains in predictive accuracy and overall model stability.\n",
        "\n",
        "**Exploratory Insights**: Delving into hyperparameters provides a deeper understanding of your model's behavior under diverse configurations, valuable for interpreting its intrinsic characteristics.\n",
        "\n",
        "**New Data Introduction**: When integrating new data, assessing whether prevailing hyperparameters still yield optimal outcomes is a recommended practice."
      ],
      "metadata": {
        "id": "VkyMA6eyTYGJ"
      }
    },
    {
      "cell_type": "code",
      "source": [
        "# Define the hyperparameters and their potential values\n",
        "param_grid = {\n",
        "    'n_estimators': [50, 100, 200],\n",
        "    'max_depth': [None, 10, 20],\n",
        "    'min_samples_split': [2, 5, 10],\n",
        "    'min_samples_leaf': [1, 2, 4]\n",
        "}\n",
        "\n",
        "# Create the Random Forest Regressor model\n",
        "model = RandomForestRegressor()\n",
        "\n",
        "# Initialize GridSearchCV with the model, parameter grid, and scoring metric\n",
        "grid_search = GridSearchCV(estimator=model, param_grid=param_grid, scoring='r2', cv=5)\n",
        "\n",
        "# Fit the grid search to the data\n",
        "grid_search.fit(X_train, y_train)\n",
        "\n",
        "# Get the best parameters and best model\n",
        "best_params = grid_search.best_params_\n",
        "best_model = grid_search.best_estimator_\n",
        "\n",
        "# Make predictions using the best model\n",
        "y_pred = best_model.predict(X_test)\n",
        "\n",
        "# Calculate the mean squared error\n",
        "mse = mean_squared_error(y_test, y_pred)\n",
        "\n",
        "print(\"Best Hyperparameters:\", best_params)\n",
        "print(\"Best Model R2:\", r2_mean)"
      ],
      "metadata": {
        "colab": {
          "base_uri": "https://localhost:8080/"
        },
        "id": "y1_r11ZsTXux",
        "outputId": "0309a00a-e4a8-41b0-c082-735361b442df"
      },
      "execution_count": 56,
      "outputs": [
        {
          "output_type": "stream",
          "name": "stdout",
          "text": [
            "Best Hyperparameters: {'max_depth': None, 'min_samples_leaf': 1, 'min_samples_split': 2, 'n_estimators': 100}\n",
            "Best Model R2: 0.9563012556417828\n"
          ]
        }
      ]
    },
    {
      "cell_type": "markdown",
      "source": [
        "It appears that the default parameters for Random Forest Regression yield the most favorable results."
      ],
      "metadata": {
        "id": "hxR9qS0hlvHH"
      }
    },
    {
      "cell_type": "markdown",
      "source": [
        "### Testing the final model"
      ],
      "metadata": {
        "id": "AEja5a8OVOBR"
      }
    },
    {
      "cell_type": "code",
      "source": [
        "#instantiating the final model\n",
        "model_final = RandomForestRegressor()\n",
        "model_final.fit(X_train, y_train)"
      ],
      "metadata": {
        "colab": {
          "base_uri": "https://localhost:8080/",
          "height": 74
        },
        "id": "pYpO7yrhVN0R",
        "outputId": "9d437f22-fa37-419f-d479-5109c44c800c"
      },
      "execution_count": 57,
      "outputs": [
        {
          "output_type": "execute_result",
          "data": {
            "text/plain": [
              "RandomForestRegressor()"
            ],
            "text/html": [
              "<style>#sk-container-id-2 {color: black;background-color: white;}#sk-container-id-2 pre{padding: 0;}#sk-container-id-2 div.sk-toggleable {background-color: white;}#sk-container-id-2 label.sk-toggleable__label {cursor: pointer;display: block;width: 100%;margin-bottom: 0;padding: 0.3em;box-sizing: border-box;text-align: center;}#sk-container-id-2 label.sk-toggleable__label-arrow:before {content: \"▸\";float: left;margin-right: 0.25em;color: #696969;}#sk-container-id-2 label.sk-toggleable__label-arrow:hover:before {color: black;}#sk-container-id-2 div.sk-estimator:hover label.sk-toggleable__label-arrow:before {color: black;}#sk-container-id-2 div.sk-toggleable__content {max-height: 0;max-width: 0;overflow: hidden;text-align: left;background-color: #f0f8ff;}#sk-container-id-2 div.sk-toggleable__content pre {margin: 0.2em;color: black;border-radius: 0.25em;background-color: #f0f8ff;}#sk-container-id-2 input.sk-toggleable__control:checked~div.sk-toggleable__content {max-height: 200px;max-width: 100%;overflow: auto;}#sk-container-id-2 input.sk-toggleable__control:checked~label.sk-toggleable__label-arrow:before {content: \"▾\";}#sk-container-id-2 div.sk-estimator input.sk-toggleable__control:checked~label.sk-toggleable__label {background-color: #d4ebff;}#sk-container-id-2 div.sk-label input.sk-toggleable__control:checked~label.sk-toggleable__label {background-color: #d4ebff;}#sk-container-id-2 input.sk-hidden--visually {border: 0;clip: rect(1px 1px 1px 1px);clip: rect(1px, 1px, 1px, 1px);height: 1px;margin: -1px;overflow: hidden;padding: 0;position: absolute;width: 1px;}#sk-container-id-2 div.sk-estimator {font-family: monospace;background-color: #f0f8ff;border: 1px dotted black;border-radius: 0.25em;box-sizing: border-box;margin-bottom: 0.5em;}#sk-container-id-2 div.sk-estimator:hover {background-color: #d4ebff;}#sk-container-id-2 div.sk-parallel-item::after {content: \"\";width: 100%;border-bottom: 1px solid gray;flex-grow: 1;}#sk-container-id-2 div.sk-label:hover label.sk-toggleable__label {background-color: #d4ebff;}#sk-container-id-2 div.sk-serial::before {content: \"\";position: absolute;border-left: 1px solid gray;box-sizing: border-box;top: 0;bottom: 0;left: 50%;z-index: 0;}#sk-container-id-2 div.sk-serial {display: flex;flex-direction: column;align-items: center;background-color: white;padding-right: 0.2em;padding-left: 0.2em;position: relative;}#sk-container-id-2 div.sk-item {position: relative;z-index: 1;}#sk-container-id-2 div.sk-parallel {display: flex;align-items: stretch;justify-content: center;background-color: white;position: relative;}#sk-container-id-2 div.sk-item::before, #sk-container-id-2 div.sk-parallel-item::before {content: \"\";position: absolute;border-left: 1px solid gray;box-sizing: border-box;top: 0;bottom: 0;left: 50%;z-index: -1;}#sk-container-id-2 div.sk-parallel-item {display: flex;flex-direction: column;z-index: 1;position: relative;background-color: white;}#sk-container-id-2 div.sk-parallel-item:first-child::after {align-self: flex-end;width: 50%;}#sk-container-id-2 div.sk-parallel-item:last-child::after {align-self: flex-start;width: 50%;}#sk-container-id-2 div.sk-parallel-item:only-child::after {width: 0;}#sk-container-id-2 div.sk-dashed-wrapped {border: 1px dashed gray;margin: 0 0.4em 0.5em 0.4em;box-sizing: border-box;padding-bottom: 0.4em;background-color: white;}#sk-container-id-2 div.sk-label label {font-family: monospace;font-weight: bold;display: inline-block;line-height: 1.2em;}#sk-container-id-2 div.sk-label-container {text-align: center;}#sk-container-id-2 div.sk-container {/* jupyter's `normalize.less` sets `[hidden] { display: none; }` but bootstrap.min.css set `[hidden] { display: none !important; }` so we also need the `!important` here to be able to override the default hidden behavior on the sphinx rendered scikit-learn.org. See: https://github.com/scikit-learn/scikit-learn/issues/21755 */display: inline-block !important;position: relative;}#sk-container-id-2 div.sk-text-repr-fallback {display: none;}</style><div id=\"sk-container-id-2\" class=\"sk-top-container\"><div class=\"sk-text-repr-fallback\"><pre>RandomForestRegressor()</pre><b>In a Jupyter environment, please rerun this cell to show the HTML representation or trust the notebook. <br />On GitHub, the HTML representation is unable to render, please try loading this page with nbviewer.org.</b></div><div class=\"sk-container\" hidden><div class=\"sk-item\"><div class=\"sk-estimator sk-toggleable\"><input class=\"sk-toggleable__control sk-hidden--visually\" id=\"sk-estimator-id-2\" type=\"checkbox\" checked><label for=\"sk-estimator-id-2\" class=\"sk-toggleable__label sk-toggleable__label-arrow\">RandomForestRegressor</label><div class=\"sk-toggleable__content\"><pre>RandomForestRegressor()</pre></div></div></div></div></div>"
            ]
          },
          "metadata": {},
          "execution_count": 57
        }
      ]
    },
    {
      "cell_type": "code",
      "source": [
        "# Make predictions\n",
        "y_train_pred = model_final.predict(X_train)\n",
        "y_test_pred = model_final.predict(X_test)"
      ],
      "metadata": {
        "id": "R0PfhPMeMP1G"
      },
      "execution_count": 59,
      "outputs": []
    },
    {
      "cell_type": "code",
      "source": [
        "# Metrics for the final model\n",
        "r2_train = r2_score(y_train, y_train_pred)\n",
        "r2_test = r2_score(y_test, y_test_pred)\n",
        "\n",
        "mae_train = mean_absolute_error(y_train, y_train_pred)\n",
        "mae_test = mean_absolute_error(y_test, y_test_pred)\n",
        "\n",
        "mse_train = mean_squared_error(y_train, y_train_pred)\n",
        "mse_test = mean_squared_error(y_test, y_test_pred)\n",
        "\n",
        "rmse_train = np.sqrt(mse_train)\n",
        "rmse_test = np.sqrt(mse_test)\n",
        "\n",
        "msle_train = mean_squared_log_error(y_train, y_train_pred)\n",
        "msle_test = mean_squared_log_error(y_test, y_test_pred)\n",
        "\n",
        "print(f\"Training R2: {r2_train: .4f}\")\n",
        "print(f\"Testing R2: {r2_test: .4f}\")\n",
        "print(f\"Training MAE: {mae_train: .4f}\")\n",
        "print(f\"Testing MAE: {mae_test: .4f}\")\n",
        "print(f\"Training RMSE: {rmse_train: .4f}\")\n",
        "print(f\"Testing RMSE: {rmse_test: .4f}\")"
      ],
      "metadata": {
        "colab": {
          "base_uri": "https://localhost:8080/"
        },
        "id": "lMP3Q1MAM81e",
        "outputId": "563fbc57-16a5-49ac-8bd8-495bac9d8b97"
      },
      "execution_count": 60,
      "outputs": [
        {
          "output_type": "stream",
          "name": "stdout",
          "text": [
            "Training R2:  0.9999\n",
            "Testing R2:  0.9993\n",
            "Training MAE:  0.0199\n",
            "Testing MAE:  0.0538\n",
            "Training RMSE:  0.0759\n",
            "Testing RMSE:  0.2419\n"
          ]
        }
      ]
    },
    {
      "cell_type": "markdown",
      "source": [
        "### Saving the model"
      ],
      "metadata": {
        "id": "Qn9ALEmfqZXD"
      }
    },
    {
      "cell_type": "code",
      "source": [
        "import joblib\n",
        "\n",
        "# Save the model to a file\n",
        "model_filename = 'trained_model.joblib'\n",
        "joblib.dump(model_final, model_filename)"
      ],
      "metadata": {
        "colab": {
          "base_uri": "https://localhost:8080/"
        },
        "id": "KpPrH3m0qcZL",
        "outputId": "b2f5ace6-61ce-42b0-a37e-1579ed8360cb"
      },
      "execution_count": 79,
      "outputs": [
        {
          "output_type": "execute_result",
          "data": {
            "text/plain": [
              "['trained_model.joblib']"
            ]
          },
          "metadata": {},
          "execution_count": 79
        }
      ]
    },
    {
      "cell_type": "markdown",
      "source": [
        "## Conclusion"
      ],
      "metadata": {
        "id": "QRbVKQ3_WDl7"
      }
    },
    {
      "cell_type": "markdown",
      "source": [
        "In conclusion, the Food Time Delivery Prediction project has adeptly navigated through crucial stages to construct an efficient predictive model. The process is initiated by engineering significant features like distance and speed, pinpointing influential attributes impacting delivery times. Subsequent phases focused on meticulous data refinement, addressing inconsistencies, and shaping a robust dataset.\n",
        "\n",
        "Preprocessing surfaced as a pivotal juncture, encompassing vital tasks like feature scaling and categorical variable encoding, all aimed at enhancing the model's performance. Cross-validation emerged as a crucial contributor, rigorously assessing the model's capacity to generalize across varied datasets. It led to the RandomForestRegressor, which demonstrated the most promising metrics for this particular dataset. Subsequently, the journey took us through the intricate process of hyperparameter tuning, refining the model's configuration to achieve the utmost predictive prowess. Interestingly, the culmination of these efforts led to the confirmation that the default configuration of RandomForestRegressor yielded the optimal outcome.\n",
        "\n",
        "Ultimately, the project culminated in the selection of RandomForestRegressor as the final model. Its superior performance in terms of Mean Squared Error (MSE) and R-squared (R2) demonstrated its ability to accurately predict delivery times. The successful journey through feature engineering, data cleaning, preprocessing, cross-validation, hyperparameter tuning, and model selection reinforces the robustness of the constructed Food Time Delivery Prediction model.\n"
      ],
      "metadata": {
        "id": "buQMdfqrWEqw"
      }
    }
  ]
}